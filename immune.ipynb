{
 "cells": [
  {
   "cell_type": "code",
   "execution_count": 2,
   "metadata": {},
   "outputs": [
    {
     "name": "stdout",
     "output_type": "stream",
     "text": [
      "Epoch: 001, Loss: 127.7875, Curr_Best: 0.3043, Val: 0.3913\n"
     ]
    }
   ],
   "source": [
    "from utils import evaluate_graphs_accuracy\n",
    "from models import GcnEncoderGraph\n",
    "import torch\n",
    "from torch_geometric.loader import DataLoader\n",
    "from torch.nn import BCEWithLogitsLoss, CrossEntropyLoss\n",
    "from immune import Immune\n",
    "\n",
    "# training setting\n",
    "batch_size = 128\n",
    "lr = 1e-4\n",
    "epochs = 100\n",
    "num_workers = 8\n",
    "\n",
    "train_set = Immune(mode='training')\n",
    "test_set = Immune(mode=\"testing\")\n",
    "val_set = Immune(mode='evaluation')\n",
    "\n",
    "test_loader = DataLoader(test_set, batch_size=batch_size, shuffle=False, num_workers=num_workers)\n",
    "val_loader = DataLoader(val_set, batch_size=batch_size, shuffle=False, num_workers=num_workers)\n",
    "train_loader = DataLoader(train_set, batch_size=batch_size, shuffle=True, num_workers=num_workers)\n",
    "\n",
    "model = GcnEncoderGraph(input_dim=train_set.num_features,\n",
    "                        hidden_dim=128,\n",
    "                        embedding_dim=32,\n",
    "                        num_layers=2,\n",
    "                        pred_hidden_dims=[64, 32],\n",
    "                        label_dim=2)\n",
    "\n",
    "optimizer = torch.optim.Adam(model.parameters(),\n",
    "                                lr=lr,\n",
    "                                weight_decay=1e-4)\n",
    "\n",
    "device = torch.device('cuda:1' if torch.cuda.is_available() else 'cpu')\n",
    "\n",
    "\n",
    "criterion = CrossEntropyLoss(weight=torch.tensor([0.4, 0.6]).to(device))\n",
    "\n",
    "model.to(device)\n",
    "best_accuracy = 0\n",
    "\n",
    "for epoch in range(1, epochs+1):\n",
    "    model.train()\n",
    "    loss_all = 0\n",
    "    optimizer.zero_grad()\n",
    "    for data in train_loader:\n",
    "        x = data.x.to(device)\n",
    "        edge_index = data.edge_index.to(device)\n",
    "        # edge_index = torch.tensor([[], []], dtype=torch.long).to(device)\n",
    "        y = data.y.to(device)\n",
    "        batch = data.batch.to(device)\n",
    "        y_pred = model(x, edge_index, batch)\n",
    "        loss = criterion(y_pred, y)\n",
    "\n",
    "        loss.backward()\n",
    "        loss_all += loss.item() * data.num_graphs\n",
    "    optimizer.step()\n",
    "\n",
    "    if epoch % 1 == 0:\n",
    "        accuracy_test = evaluate_graphs_accuracy(test_loader, model, device)\n",
    "        if accuracy_test > best_accuracy:\n",
    "            torch.save(model.state_dict(), './params/immune_net.ckpt')\n",
    "            best_accuracy = accuracy_test\n",
    "            accuracy_val = evaluate_graphs_accuracy(val_loader, model, device)\n",
    "            print(f'Epoch: {epoch:03d}, Loss: {loss_all:.4f}, Curr_Best: {best_accuracy:.4f}, Val: {accuracy_val:.4f}')"
   ]
  },
  {
   "cell_type": "code",
   "execution_count": 27,
   "metadata": {},
   "outputs": [
    {
     "data": {
      "text/plain": [
       "<All keys matched successfully>"
      ]
     },
     "execution_count": 27,
     "metadata": {},
     "output_type": "execute_result"
    }
   ],
   "source": [
    "model.load_state_dict(torch.load('./params/immune.ckpt'))"
   ]
  },
  {
   "cell_type": "code",
   "execution_count": 13,
   "metadata": {},
   "outputs": [
    {
     "data": {
      "text/plain": [
       "0.6304347826086957"
      ]
     },
     "execution_count": 13,
     "metadata": {},
     "output_type": "execute_result"
    }
   ],
   "source": [
    "count = 0\n",
    "for data in train_set:\n",
    "    if data.y == 0:\n",
    "        count += 1\n",
    "count/len(train_set)"
   ]
  },
  {
   "cell_type": "code",
   "execution_count": 14,
   "metadata": {},
   "outputs": [
    {
     "data": {
      "text/plain": [
       "0.6956521739130435"
      ]
     },
     "execution_count": 14,
     "metadata": {},
     "output_type": "execute_result"
    }
   ],
   "source": [
    "count = 0\n",
    "for data in test_set:\n",
    "    if data.y == 0:\n",
    "        count += 1\n",
    "count/len(test_set)"
   ]
  },
  {
   "cell_type": "code",
   "execution_count": 1,
   "metadata": {},
   "outputs": [
    {
     "ename": "NameError",
     "evalue": "name 'val_set' is not defined",
     "output_type": "error",
     "traceback": [
      "\u001b[0;31m---------------------------------------------------------------------------\u001b[0m",
      "\u001b[0;31mNameError\u001b[0m                                 Traceback (most recent call last)",
      "\u001b[1;32m/home/chenluonanlab/mingqi/CIDER/immune.ipynb Cell 3\u001b[0m line \u001b[0;36m2\n\u001b[1;32m      <a href='vscode-notebook-cell://ssh-remote%2Bpicb/home/chenluonanlab/mingqi/CIDER/immune.ipynb#X22sdnNjb2RlLXJlbW90ZQ%3D%3D?line=0'>1</a>\u001b[0m count \u001b[39m=\u001b[39m \u001b[39m0\u001b[39m\n\u001b[0;32m----> <a href='vscode-notebook-cell://ssh-remote%2Bpicb/home/chenluonanlab/mingqi/CIDER/immune.ipynb#X22sdnNjb2RlLXJlbW90ZQ%3D%3D?line=1'>2</a>\u001b[0m \u001b[39mfor\u001b[39;00m data \u001b[39min\u001b[39;00m val_set:\n\u001b[1;32m      <a href='vscode-notebook-cell://ssh-remote%2Bpicb/home/chenluonanlab/mingqi/CIDER/immune.ipynb#X22sdnNjb2RlLXJlbW90ZQ%3D%3D?line=2'>3</a>\u001b[0m     \u001b[39mif\u001b[39;00m data\u001b[39m.\u001b[39my \u001b[39m==\u001b[39m \u001b[39m0\u001b[39m:\n\u001b[1;32m      <a href='vscode-notebook-cell://ssh-remote%2Bpicb/home/chenluonanlab/mingqi/CIDER/immune.ipynb#X22sdnNjb2RlLXJlbW90ZQ%3D%3D?line=3'>4</a>\u001b[0m         count \u001b[39m+\u001b[39m\u001b[39m=\u001b[39m \u001b[39m1\u001b[39m\n",
      "\u001b[0;31mNameError\u001b[0m: name 'val_set' is not defined"
     ]
    }
   ],
   "source": [
    "count = 0\n",
    "for data in val_set:\n",
    "    if data.y == 0:\n",
    "        count += 1\n",
    "count/len(val_set)"
   ]
  }
 ],
 "metadata": {
  "kernelspec": {
   "display_name": "causal",
   "language": "python",
   "name": "python3"
  },
  "language_info": {
   "codemirror_mode": {
    "name": "ipython",
    "version": 3
   },
   "file_extension": ".py",
   "mimetype": "text/x-python",
   "name": "python",
   "nbconvert_exporter": "python",
   "pygments_lexer": "ipython3",
   "version": "3.11.4"
  },
  "orig_nbformat": 4
 },
 "nbformat": 4,
 "nbformat_minor": 2
}
