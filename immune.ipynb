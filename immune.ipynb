{
 "cells": [
  {
   "cell_type": "code",
   "execution_count": 7,
   "metadata": {},
   "outputs": [],
   "source": [
    "@torch.no_grad()\n",
    "def evaluate_graphs_accuracy(\n",
    "        test_loader,\n",
    "        model,\n",
    "        device=torch.device('cuda' if torch.cuda.is_available() else 'cpu'),\n",
    "        require_cm=False):\n",
    "\n",
    "    model.to(device)\n",
    "    model.eval()\n",
    "    correct = 0\n",
    "    all_labels = []\n",
    "    if require_cm:\n",
    "        all_predictions = []\n",
    "\n",
    "    for data in test_loader:\n",
    "        output = model(\n",
    "            data.x.to(device),\n",
    "            torch.tensor([[], []], dtype=torch.long).to(device),\n",
    "            data.batch.to(device),\n",
    "        )\n",
    "        predictions = output.argmax(dim=1).cpu().numpy().reshape(-1)\n",
    "        labels = data.y.cpu().numpy().reshape(-1)\n",
    "        all_labels.extend(labels)\n",
    "        correct += float((predictions == labels).sum())\n",
    "        if require_cm:\n",
    "            all_predictions.extend(predictions)\n",
    "    accuracy = correct / len(test_loader.dataset)\n",
    "    if require_cm:\n",
    "        cm = confusion_matrix(all_labels, all_predictions)\n",
    "        return accuracy, cm\n",
    "    else:\n",
    "        return accuracy"
   ]
  },
  {
   "cell_type": "code",
   "execution_count": 1,
   "metadata": {},
   "outputs": [
    {
     "name": "stderr",
     "output_type": "stream",
     "text": [
      "/share/home/zhangqibin/anaconda3/envs/causal/lib/python3.9/site-packages/tqdm/auto.py:22: TqdmWarning: IProgress not found. Please update jupyter and ipywidgets. See https://ipywidgets.readthedocs.io/en/stable/user_install.html\n",
      "  from .autonotebook import tqdm as notebook_tqdm\n",
      "Processing...\n",
      "/share/home/zhangqibin/CIDER/immune.py:79: UserWarning: Creating a tensor from a list of numpy.ndarrays is extremely slow. Please consider converting the list to a single numpy.ndarray with numpy.array() before converting to a tensor. (Triggered internally at  /opt/conda/conda-bld/pytorch_1659484806139/work/torch/csrc/utils/tensor_new.cpp:201.)\n",
      "  edge_index = torch.tensor(edge_index, dtype=torch.long)\n",
      "Done!\n"
     ]
    }
   ],
   "source": [
    "from models import GcnEncoderGraph\n",
    "import torch\n",
    "from torch_geometric.loader import DataLoader\n",
    "from torch.nn import BCEWithLogitsLoss, CrossEntropyLoss\n",
    "from immune import Immune\n",
    "\n",
    "# training setting\n",
    "batch_size = 128\n",
    "lr = 1e-3\n",
    "epochs = 200\n",
    "num_workers = 16\n",
    "\n",
    "train_set = Immune(mode='training')\n",
    "test_set = Immune(mode=\"testing\")\n",
    "val_set = Immune(mode='evaluation')\n",
    "\n",
    "test_loader = DataLoader(test_set, batch_size=batch_size, shuffle=False, num_workers=num_workers)\n",
    "val_loader = DataLoader(val_set, batch_size=batch_size, shuffle=False, num_workers=num_workers)\n",
    "train_loader = DataLoader(train_set, batch_size=batch_size, shuffle=True, num_workers=num_workers)"
   ]
  },
  {
   "cell_type": "code",
   "execution_count": 24,
   "metadata": {},
   "outputs": [
    {
     "name": "stdout",
     "output_type": "stream",
     "text": [
      "Epoch: 001, Loss: 135.1032, Curr_Best: 0.5217, Val: 0.6087\n",
      "Epoch: 006, Loss: 127.5765, Curr_Best: 0.6957, Val: 0.6087\n",
      "Epoch: 019, Loss: 127.5195, Curr_Best: 0.7391, Val: 0.5217\n"
     ]
    }
   ],
   "source": [
    "from utils import evaluate_graphs_accuracy\n",
    "from models import GcnEncoderGraph\n",
    "import torch\n",
    "from torch_geometric.loader import DataLoader\n",
    "from torch.nn import BCEWithLogitsLoss, CrossEntropyLoss\n",
    "from immune import Immune\n",
    "\n",
    "# training setting\n",
    "batch_size = 128\n",
    "lr = 1e-2\n",
    "epochs = 200\n",
    "num_workers = 16\n",
    "\n",
    "train_set = Immune(mode='training')\n",
    "test_set = Immune(mode=\"testing\")\n",
    "val_set = Immune(mode='evaluation')\n",
    "\n",
    "test_loader = DataLoader(test_set, batch_size=batch_size, shuffle=False, num_workers=num_workers)\n",
    "val_loader = DataLoader(val_set, batch_size=batch_size, shuffle=False, num_workers=num_workers)\n",
    "train_loader = DataLoader(train_set, batch_size=batch_size, shuffle=True, num_workers=num_workers)\n",
    "\n",
    "model = GcnEncoderGraph(input_dim=train_set.num_features,\n",
    "                        hidden_dim=8,\n",
    "                        embedding_dim=16,\n",
    "                        num_layers=3,\n",
    "                        pred_hidden_dims=[],\n",
    "                        label_dim=2)\n",
    "\n",
    "optimizer = torch.optim.Adam(model.parameters(),\n",
    "                                lr=lr,\n",
    "                                weight_decay=1e-4)\n",
    "\n",
    "device = torch.device('cuda' if torch.cuda.is_available() else 'cpu')\n",
    "\n",
    "\n",
    "criterion = CrossEntropyLoss(weight=torch.tensor([0.4, 0.6]).to(device))\n",
    "\n",
    "model.to(device)\n",
    "best_accuracy = 0\n",
    "\n",
    "for epoch in range(1, epochs+1):\n",
    "    model.train()\n",
    "    loss_all = 0\n",
    "    optimizer.zero_grad()\n",
    "    for data in train_loader:\n",
    "        x = data.x.to(device)\n",
    "        edge_index = data.edge_index.to(device)\n",
    "        # edge_index = torch.tensor([[], []], dtype=torch.long).to(device)\n",
    "        y = data.y.to(device)\n",
    "        batch = data.batch.to(device)\n",
    "        y_pred = model(x, edge_index, batch)\n",
    "        loss = criterion(y_pred, y)\n",
    "\n",
    "        loss.backward()\n",
    "        loss_all += loss.item() * data.num_graphs\n",
    "    optimizer.step()\n",
    "\n",
    "    if epoch % 1 == 0:\n",
    "        accuracy_test = evaluate_graphs_accuracy(test_loader, model, device)\n",
    "        if accuracy_test > best_accuracy:\n",
    "            torch.save(model.state_dict(), './params/immune.ckpt')\n",
    "            best_accuracy = accuracy_test\n",
    "            accuracy_val = evaluate_graphs_accuracy(val_loader, model, device)\n",
    "            print(f'Epoch: {epoch:03d}, Loss: {loss_all:.4f}, Curr_Best: {best_accuracy:.4f}, Val: {accuracy_val:.4f}')"
   ]
  },
  {
   "cell_type": "code",
   "execution_count": 8,
   "metadata": {},
   "outputs": [
    {
     "data": {
      "text/plain": [
       "torch.Size([128])"
      ]
     },
     "execution_count": 8,
     "metadata": {},
     "output_type": "execute_result"
    }
   ],
   "source": [
    "y.shape"
   ]
  },
  {
   "cell_type": "code",
   "execution_count": 7,
   "metadata": {},
   "outputs": [],
   "source": [
    "from torch_geometric.utils import to_dense_adj, dense_to_sparse\n",
    "\n",
    "@torch.no_grad()\n",
    "def random_test(test_loader, model, device=('cuda' if torch.cuda.is_available() else 'cpu')):\n",
    "    model.eval()\n",
    "    correct = 0\n",
    "\n",
    "    for data in test_loader:\n",
    "        adj = to_dense_adj(data.edge_index)\n",
    "        random_adj = torch.randn_like(adj)\n",
    "        random_adj = torch.where(random_adj > 0, random_adj, torch.zeros_like(random_adj))\n",
    "        random_edge, weight = dense_to_sparse(random_adj)\n",
    "        topk = data.edge_index.shape[1]\n",
    "        threshold = weight.sort(descending=True).values.topk(topk).values[-1]\n",
    "        random_edge = random_edge.T[weight>threshold].T\n",
    "        output = model(\n",
    "            data.x.to(device),\n",
    "            random_edge.to(device),\n",
    "            data.batch.to(device),\n",
    "        )\n",
    "        correct += float(output.argmax(dim=1).eq(data.y.to(device)).sum().item())\n",
    "    return correct / (len(test_loader.dataset))"
   ]
  },
  {
   "cell_type": "code",
   "execution_count": 33,
   "metadata": {},
   "outputs": [],
   "source": [
    "torch.cuda.empty_cache()"
   ]
  },
  {
   "cell_type": "code",
   "execution_count": 19,
   "metadata": {},
   "outputs": [],
   "source": [
    "test_loader = DataLoader(test_set, batch_size=16, shuffle=False, num_workers=num_workers)\n",
    "val_loader = DataLoader(val_set, batch_size=16, shuffle=False, num_workers=num_workers)\n",
    "train_loader = DataLoader(train_set, batch_size=16, shuffle=True, num_workers=num_workers)"
   ]
  },
  {
   "cell_type": "code",
   "execution_count": 27,
   "metadata": {},
   "outputs": [
    {
     "data": {
      "text/plain": [
       "<All keys matched successfully>"
      ]
     },
     "execution_count": 27,
     "metadata": {},
     "output_type": "execute_result"
    }
   ],
   "source": [
    "model.load_state_dict(torch.load('./params/immune.ckpt'))"
   ]
  },
  {
   "cell_type": "code",
   "execution_count": null,
   "metadata": {},
   "outputs": [],
   "source": [
    "random_test(train_loader, model, device)"
   ]
  },
  {
   "cell_type": "code",
   "execution_count": 11,
   "metadata": {},
   "outputs": [
    {
     "data": {
      "text/plain": [
       "0.6956521739130435"
      ]
     },
     "execution_count": 11,
     "metadata": {},
     "output_type": "execute_result"
    }
   ],
   "source": [
    "random_test(test_loader, model, device)"
   ]
  },
  {
   "cell_type": "code",
   "execution_count": 31,
   "metadata": {},
   "outputs": [
    {
     "data": {
      "text/plain": [
       "0.6086956521739131"
      ]
     },
     "execution_count": 31,
     "metadata": {},
     "output_type": "execute_result"
    }
   ],
   "source": [
    "random_test(val_loader, model, device)"
   ]
  },
  {
   "cell_type": "code",
   "execution_count": 30,
   "metadata": {},
   "outputs": [
    {
     "data": {
      "text/plain": [
       "0.6032608695652174"
      ]
     },
     "execution_count": 30,
     "metadata": {},
     "output_type": "execute_result"
    }
   ],
   "source": [
    "evaluate_graphs_accuracy(train_loader, model, device)"
   ]
  },
  {
   "cell_type": "code",
   "execution_count": 28,
   "metadata": {},
   "outputs": [
    {
     "data": {
      "text/plain": [
       "0.7391304347826086"
      ]
     },
     "execution_count": 28,
     "metadata": {},
     "output_type": "execute_result"
    }
   ],
   "source": [
    "evaluate_graphs_accuracy(test_loader, model, device)"
   ]
  },
  {
   "cell_type": "code",
   "execution_count": 29,
   "metadata": {},
   "outputs": [
    {
     "data": {
      "text/plain": [
       "0.5217391304347826"
      ]
     },
     "execution_count": 29,
     "metadata": {},
     "output_type": "execute_result"
    }
   ],
   "source": [
    "evaluate_graphs_accuracy(val_loader, model, device)"
   ]
  },
  {
   "cell_type": "code",
   "execution_count": 13,
   "metadata": {},
   "outputs": [
    {
     "data": {
      "text/plain": [
       "0.6304347826086957"
      ]
     },
     "execution_count": 13,
     "metadata": {},
     "output_type": "execute_result"
    }
   ],
   "source": [
    "count = 0\n",
    "for data in train_set:\n",
    "    if data.y == 0:\n",
    "        count += 1\n",
    "count/len(train_set)"
   ]
  },
  {
   "cell_type": "code",
   "execution_count": 14,
   "metadata": {},
   "outputs": [
    {
     "data": {
      "text/plain": [
       "0.6956521739130435"
      ]
     },
     "execution_count": 14,
     "metadata": {},
     "output_type": "execute_result"
    }
   ],
   "source": [
    "count = 0\n",
    "for data in test_set:\n",
    "    if data.y == 0:\n",
    "        count += 1\n",
    "count/len(test_set)"
   ]
  },
  {
   "cell_type": "code",
   "execution_count": 15,
   "metadata": {},
   "outputs": [
    {
     "data": {
      "text/plain": [
       "0.6086956521739131"
      ]
     },
     "execution_count": 15,
     "metadata": {},
     "output_type": "execute_result"
    }
   ],
   "source": [
    "count = 0\n",
    "for data in val_set:\n",
    "    if data.y == 0:\n",
    "        count += 1\n",
    "count/len(val_set)"
   ]
  }
 ],
 "metadata": {
  "kernelspec": {
   "display_name": "causal",
   "language": "python",
   "name": "python3"
  },
  "language_info": {
   "codemirror_mode": {
    "name": "ipython",
    "version": 3
   },
   "file_extension": ".py",
   "mimetype": "text/x-python",
   "name": "python",
   "nbconvert_exporter": "python",
   "pygments_lexer": "ipython3",
   "version": "3.9.15"
  },
  "orig_nbformat": 4
 },
 "nbformat": 4,
 "nbformat_minor": 2
}
