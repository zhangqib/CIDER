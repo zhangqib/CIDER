{
 "cells": [
  {
   "cell_type": "code",
   "execution_count": 1,
   "metadata": {},
   "outputs": [],
   "source": [
    "from mutag import Mutagenicity\n",
    "from torch_geometric.loader import DataLoader\n",
    "\n",
    "\n",
    "train_set = Mutagenicity(mode='training')\n",
    "test_set = Mutagenicity(mode='testing')\n",
    "validate_set = Mutagenicity(mode='evaluation')\n",
    "\n",
    "train_loader = DataLoader(train_set, batch_size=64, shuffle=True, num_workers=16)\n",
    "test_loader = DataLoader(test_set, batch_size=64, shuffle=True, num_workers=16)\n",
    "validate_loader = DataLoader(validate_set, batch_size=64, shuffle=True, num_workers=16)"
   ]
  },
  {
   "cell_type": "code",
   "execution_count": 2,
   "metadata": {},
   "outputs": [],
   "source": [
    "import torch\n",
    "from models import GcnEncoderGraph\n",
    "from cider import CIDER\n",
    "\n",
    "device = torch.device('cuda')\n",
    "\n",
    "task_model = GcnEncoderGraph(input_dim=train_set.num_features,\n",
    "                                     hidden_dim=50,\n",
    "                                     embedding_dim=10,\n",
    "                                     num_layers=3,\n",
    "                                     pred_hidden_dims=[10, 10],\n",
    "                                     label_dim=2).to(device)\n",
    "\n",
    "explainer_model = CIDER(train_set.num_features,\n",
    "                                hidden_channels1=32,\n",
    "                                hidden_channels2=64,\n",
    "                                hidden_channels3=10,\n",
    "                                task_model=task_model).to(device)"
   ]
  },
  {
   "cell_type": "code",
   "execution_count": null,
   "metadata": {},
   "outputs": [],
   "source": [
    "path = './params/mutag_net.pt'\n",
    "task_model.load_state_dict(torch.load(path))"
   ]
  },
  {
   "cell_type": "code",
   "execution_count": 4,
   "metadata": {},
   "outputs": [
    {
     "data": {
      "text/plain": [
       "<All keys matched successfully>"
      ]
     },
     "execution_count": 4,
     "metadata": {},
     "output_type": "execute_result"
    }
   ],
   "source": [
    "path = './params/explainer_mutag.ckpt'\n",
    "explainer_model.load_state_dict(torch.load(path))"
   ]
  },
  {
   "cell_type": "code",
   "execution_count": null,
   "metadata": {},
   "outputs": [],
   "source": [
    "lr = 1e-4\n",
    "\n",
    "optimizer = torch.optim.Adam(explainer_model.parameters(),\n",
    "                                lr=lr,\n",
    "                                weight_decay=1e-5)"
   ]
  },
  {
   "cell_type": "code",
   "execution_count": null,
   "metadata": {},
   "outputs": [],
   "source": [
    "class DynamicObject:\n",
    "    def __init__(self, **kwargs):\n",
    "        # Initialize the object with any provided properties\n",
    "        for key, value in kwargs.items():\n",
    "            setattr(self, key, value)\n",
    "\n",
    "args = DynamicObject()"
   ]
  },
  {
   "cell_type": "code",
   "execution_count": null,
   "metadata": {},
   "outputs": [],
   "source": [
    "args.N = 5\n",
    "args.alpha_r = 0.01\n",
    "args.alpha_c = 0.1\n",
    "args.alpha_kld = 1\n",
    "args.alpha_reg = 0.1\n",
    "args.alpha_diff = 1\n",
    "args.random_sparsity = 0.8"
   ]
  },
  {
   "cell_type": "code",
   "execution_count": null,
   "metadata": {},
   "outputs": [],
   "source": [
    "best_result = {}\n",
    "test_result = {}\n",
    "for epoch in range(args.start_epoch, args.epochs):\n",
    "    losses = train_one_epoch(train_loader, explainer_model,\n",
    "                                CrossEntropyLoss(), BCEWithLogitsLoss(),\n",
    "                                optimizer, task_model, epoch, args)\n",
    "    if args.writer:\n",
    "        for key, value in losses.items():\n",
    "            writer.add_scalar(\"train/\" + key, value, epoch)\n",
    "        writer.add_scalars(\"train/losses\", losses, epoch)\n",
    "\n",
    "    if epoch % 50 == 0:\n",
    "        result_val = validate(val_set,\n",
    "                                explainer_model,\n",
    "                                explainer_model.task_model,\n",
    "                                batch_size=args.batch_size * args.N)\n",
    "        if args.writer:\n",
    "            writer.add_scalars(\"validate/test set acc\", result_val, epoch)\n",
    "        print('epoch ', str(epoch), ':', result_val)\n",
    "\n",
    "\n",
    "        if sum(result_val.values()) > sum(best_result.values()):\n",
    "            best_result = result_val\n",
    "            test_result = validate(test_set,\n",
    "                                    explainer_model,\n",
    "                                    explainer_model.task_model,\n",
    "                                    batch_size=args.batch_size * args.N)\n",
    "            torch.save(\n",
    "                explainer_model.state_dict(),\n",
    "                os.path.join('./params/explainer_' + args.dataset +\n",
    "                                '.ckpt'))\n",
    "            print('best result:', best_result)\n",
    "            print('test result:', test_result)\n",
    "    torch.cuda.empty_cache()"
   ]
  },
  {
   "cell_type": "code",
   "execution_count": 5,
   "metadata": {},
   "outputs": [
    {
     "data": {
      "text/plain": [
       "tensor([0])"
      ]
     },
     "execution_count": 5,
     "metadata": {},
     "output_type": "execute_result"
    }
   ],
   "source": [
    "index = 0\n",
    "data = train_set[index]\n",
    "train_set[index].y"
   ]
  },
  {
   "cell_type": "code",
   "execution_count": 7,
   "metadata": {},
   "outputs": [],
   "source": [
    "explainations = explainer_model.get_explainations(data.x.to(device), data.edge_index.to(device))"
   ]
  },
  {
   "cell_type": "code",
   "execution_count": null,
   "metadata": {},
   "outputs": [],
   "source": [
    "from utils import validate\n",
    "\n",
    "validate(test_set, explainer_model, task_model)"
   ]
  },
  {
   "cell_type": "code",
   "execution_count": 6,
   "metadata": {},
   "outputs": [],
   "source": [
    "import networkx as nx\n",
    "from torch_geometric.utils import to_networkx\n",
    "import matplotlib.pyplot as plt"
   ]
  },
  {
   "cell_type": "code",
   "execution_count": null,
   "metadata": {},
   "outputs": [],
   "source": [
    "train_set[index]"
   ]
  },
  {
   "cell_type": "code",
   "execution_count": null,
   "metadata": {},
   "outputs": [],
   "source": [
    "explainations['0.1'].edge_index,explainations['0.1'].edge_index.shape"
   ]
  },
  {
   "cell_type": "code",
   "execution_count": 7,
   "metadata": {},
   "outputs": [],
   "source": [
    "colors = ['orange', 'lime', 'red', 'blue', 'maroon', 'brown', 'darkslategray', 'paleturquoise', 'darksalmon', 'slategray', 'mediumseagreen', 'mediumblue', 'orchid']"
   ]
  },
  {
   "cell_type": "code",
   "execution_count": 8,
   "metadata": {},
   "outputs": [
    {
     "data": {
      "image/png": "[encoded data removed]",
      "text/plain": [
       "<Figure size 640x480 with 1 Axes>"
      ]
     },
     "metadata": {},
     "output_type": "display_data"
    },
    {
     "data": {
      "text/plain": [
       "<Figure size 640x480 with 0 Axes>"
      ]
     },
     "metadata": {},
     "output_type": "display_data"
    }
   ],
   "source": [
    "explaination = to_networkx(explainations['0.1'])\n",
    "G = to_networkx(train_set[index])\n",
    "pos = nx.kamada_kawai_layout(G)\n",
    "\n",
    "nx.draw_networkx_nodes(G, pos, nodelist=[i for i in range(train_set[index].num_nodes)], node_color=colors[0], node_size=300)\n",
    "\n",
    "nx.draw_networkx_edges(G, pos, width=2, edge_color='grey')\n",
    "\n",
    "nx.draw_networkx_edges(G, pos, edgelist=explaination.edges, width=7)\n",
    "\n",
    "plt.axis('off')\n",
    "plt.show()\n",
    "plt.clf()"
   ]
  }
 ],
 "metadata": {
  "kernelspec": {
   "display_name": "cider",
   "language": "python",
   "name": "python3"
  },
  "language_info": {
   "codemirror_mode": {
    "name": "ipython",
    "version": 3
   },
   "file_extension": ".py",
   "mimetype": "text/x-python",
   "name": "python",
   "nbconvert_exporter": "python",
   "pygments_lexer": "ipython3",
   "version": "3.11.4"
  },
  "orig_nbformat": 4
 },
 "nbformat": 4,
 "nbformat_minor": 2
}
