{
 "cells": [
  {
   "cell_type": "code",
   "execution_count": 19,
   "metadata": {},
   "outputs": [],
   "source": [
    "from ba import BA\n",
    "\n",
    "dataset = BA()"
   ]
  },
  {
   "cell_type": "code",
   "execution_count": 20,
   "metadata": {},
   "outputs": [],
   "source": [
    "from torch_geometric.loader import DataLoader\n",
    "from ba import BA\n",
    "\n",
    "dataset = BA()\n",
    "\n",
    "train_set = BA(mode='training')\n",
    "train_loader = DataLoader(train_set,\n",
    "                            batch_size=16,\n",
    "                            shuffle=True,\n",
    "                            num_workers=16,\n",
    "                            pin_memory=True,\n",
    "                            drop_last=True)\n",
    "\n",
    "val_set = BA(mode='evaluation')\n",
    "val_loader = DataLoader(val_set)\n",
    "\n",
    "test_set = BA(mode='testing')\n",
    "test_loader = DataLoader(test_set)"
   ]
  },
  {
   "cell_type": "code",
   "execution_count": 21,
   "metadata": {},
   "outputs": [],
   "source": [
    "import torch\n",
    "\n",
    "device = torch.device('cuda')"
   ]
  },
  {
   "cell_type": "code",
   "execution_count": 22,
   "metadata": {},
   "outputs": [
    {
     "data": {
      "text/plain": [
       "GcnEncoderGraph(\n",
       "  (conv_first): GCNConv(10, 20)\n",
       "  (conv_block): ModuleList(\n",
       "    (0-1): 2 x GCNConv(20, 20)\n",
       "  )\n",
       "  (conv_last): GCNConv(20, 20)\n",
       "  (act): ReLU()\n",
       "  (pred_model): Linear(in_features=80, out_features=2, bias=True)\n",
       ")"
      ]
     },
     "execution_count": 22,
     "metadata": {},
     "output_type": "execute_result"
    }
   ],
   "source": [
    "from models import  GcnEncoderGraph\n",
    "\n",
    "task_model = GcnEncoderGraph(input_dim=train_set.num_features,\n",
    "                                     hidden_dim=20,\n",
    "                                     embedding_dim=20,\n",
    "                                     num_layers=4,\n",
    "                                     pred_hidden_dims=[],\n",
    "                                     label_dim=2)\n",
    "task_model.to(device)"
   ]
  },
  {
   "cell_type": "markdown",
   "metadata": {},
   "source": [
    "## Test task model"
   ]
  },
  {
   "cell_type": "code",
   "execution_count": 23,
   "metadata": {},
   "outputs": [
    {
     "data": {
      "text/plain": [
       "<All keys matched successfully>"
      ]
     },
     "execution_count": 23,
     "metadata": {},
     "output_type": "execute_result"
    }
   ],
   "source": [
    "import torch\n",
    "\n",
    "path = './params/ba2_net.pt'\n",
    "task_model.load_state_dict(torch.load(path))"
   ]
  },
  {
   "cell_type": "code",
   "execution_count": 24,
   "metadata": {},
   "outputs": [
    {
     "data": {
      "text/plain": [
       "(0.99125, 0.98, 1.0)"
      ]
     },
     "execution_count": 24,
     "metadata": {},
     "output_type": "execute_result"
    }
   ],
   "source": [
    "from utils import evaluate_graphs_accuracy\n",
    "\n",
    "evaluate_graphs_accuracy(train_loader, task_model), evaluate_graphs_accuracy(test_loader, task_model), evaluate_graphs_accuracy(val_loader, task_model)"
   ]
  },
  {
   "cell_type": "markdown",
   "metadata": {},
   "source": [
    "task model acc:\n",
    "\n",
    "    (train, test, val): (0.99125, 0.98, 1.0)"
   ]
  },
  {
   "cell_type": "code",
   "execution_count": 25,
   "metadata": {},
   "outputs": [
    {
     "data": {
      "text/plain": [
       "CIDER(\n",
       "  (gcn_shared): Sequential(\n",
       "    (0): GCNConv(10, 8)\n",
       "  )\n",
       "  (gcn_mu_causal): GCNConv(8, 4)\n",
       "  (gcn_mu_non_causal): GCNConv(8, 4)\n",
       "  (gcn_logvar_causal): GCNConv(8, 4)\n",
       "  (gcn_logvar_non_causal): GCNConv(8, 4)\n",
       "  (decoder_causal): InnerProductDecoderMLP(\n",
       "    (fc): Linear(in_features=4, out_features=8, bias=True)\n",
       "    (fc2): Linear(in_features=8, out_features=8, bias=True)\n",
       "  )\n",
       "  (decoder_non_causal): InnerProductDecoderMLP(\n",
       "    (fc): Linear(in_features=4, out_features=8, bias=True)\n",
       "    (fc2): Linear(in_features=8, out_features=8, bias=True)\n",
       "  )\n",
       "  (task_model): GcnEncoderGraph(\n",
       "    (conv_first): GCNConv(10, 20)\n",
       "    (conv_block): ModuleList(\n",
       "      (0-1): 2 x GCNConv(20, 20)\n",
       "    )\n",
       "    (conv_last): GCNConv(20, 20)\n",
       "    (act): ReLU()\n",
       "    (pred_model): Linear(in_features=80, out_features=2, bias=True)\n",
       "  )\n",
       "  (relu): ReLU()\n",
       ")"
      ]
     },
     "execution_count": 25,
     "metadata": {},
     "output_type": "execute_result"
    }
   ],
   "source": [
    "from cider import CIDER\n",
    "\n",
    "hidden_channels1 = 8\n",
    "hidden_channels2 = 4\n",
    "hidden_channels3 = 8\n",
    "\n",
    "explainer_model = CIDER(train_set.num_features,\n",
    "                                hidden_channels1=hidden_channels1,\n",
    "                                hidden_channels2=hidden_channels2,\n",
    "                                hidden_channels3=hidden_channels3,\n",
    "                                task_model=task_model)\n",
    "\n",
    "explainer_model.to(device)"
   ]
  },
  {
   "cell_type": "code",
   "execution_count": 26,
   "metadata": {},
   "outputs": [],
   "source": [
    "lr = 1e-4\n",
    "\n",
    "optimizer = torch.optim.Adam(explainer_model.parameters(),\n",
    "                                lr=lr,\n",
    "                                weight_decay=1e-5)"
   ]
  },
  {
   "cell_type": "code",
   "execution_count": 27,
   "metadata": {},
   "outputs": [],
   "source": [
    "class DynamicObject:\n",
    "    def __init__(self, **kwargs):\n",
    "        # Initialize the object with any provided properties\n",
    "        for key, value in kwargs.items():\n",
    "            setattr(self, key, value)\n",
    "\n",
    "args = DynamicObject()"
   ]
  },
  {
   "cell_type": "code",
   "execution_count": 28,
   "metadata": {},
   "outputs": [
    {
     "ename": "AttributeError",
     "evalue": "'DynamicObject' object has no attribute 'random_sparsity'",
     "output_type": "error",
     "traceback": [
      "\u001b[0;31m---------------------------------------------------------------------------\u001b[0m",
      "\u001b[0;31mAttributeError\u001b[0m                            Traceback (most recent call last)",
      "Cell \u001b[0;32mIn[28], line 5\u001b[0m\n\u001b[1;32m      2\u001b[0m \u001b[39mfrom\u001b[39;00m \u001b[39mtorch\u001b[39;00m\u001b[39m.\u001b[39;00m\u001b[39mnn\u001b[39;00m \u001b[39mimport\u001b[39;00m CrossEntropyLoss, BCEWithLogitsLoss\n\u001b[1;32m      4\u001b[0m \u001b[39mfor\u001b[39;00m epoch \u001b[39min\u001b[39;00m \u001b[39mrange\u001b[39m(\u001b[39m0\u001b[39m, \u001b[39m10\u001b[39m):\n\u001b[0;32m----> 5\u001b[0m     losses \u001b[39m=\u001b[39m train_one_epoch(train_loader, explainer_model, CrossEntropyLoss(), BCEWithLogitsLoss(), optimizer, task_model, epoch, args)\n",
      "File \u001b[0;32m~/CIDER/utils.py:54\u001b[0m, in \u001b[0;36mtrain_one_epoch\u001b[0;34m(train_loader, explainer_model, causal_criterion, reconstruction_criterion, optimizer, task_model, epoch, args)\u001b[0m\n\u001b[1;32m     51\u001b[0m diff_criterion \u001b[39m=\u001b[39m MSELoss()\n\u001b[1;32m     52\u001b[0m reg_criterion \u001b[39m=\u001b[39m L1Loss()\n\u001b[0;32m---> 54\u001b[0m sparsity \u001b[39m=\u001b[39m random\u001b[39m.\u001b[39muniform(\u001b[39m0.5\u001b[39m, \u001b[39m0.9\u001b[39m) \u001b[39mif\u001b[39;00m args\u001b[39m.\u001b[39mrandom_sparsity \u001b[39melse\u001b[39;00m \u001b[39m0.8\u001b[39m\n\u001b[1;32m     56\u001b[0m explainer_model\u001b[39m.\u001b[39mtrain()\n\u001b[1;32m     57\u001b[0m task_model\u001b[39m.\u001b[39mtrain()\n",
      "\u001b[0;31mAttributeError\u001b[0m: 'DynamicObject' object has no attribute 'random_sparsity'"
     ]
    }
   ],
   "source": [
    "from utils import train_one_epoch, validate\n",
    "from torch.nn import CrossEntropyLoss, BCEWithLogitsLoss\n",
    "\n",
    "for epoch in range(0, 10):\n",
    "    losses = train_one_epoch(train_loader, explainer_model, CrossEntropyLoss(), BCEWithLogitsLoss(), optimizer, task_model, epoch, args)"
   ]
  },
  {
   "cell_type": "markdown",
   "metadata": {},
   "source": [
    "## Overfit on a Small Subset without any trick"
   ]
  },
  {
   "cell_type": "markdown",
   "metadata": {},
   "source": [
    "### Freeze task model"
   ]
  },
  {
   "cell_type": "code",
   "execution_count": null,
   "metadata": {},
   "outputs": [],
   "source": [
    "for param in task_model.parameters():\n",
    "    param.requires_grad = False"
   ]
  },
  {
   "cell_type": "code",
   "execution_count": null,
   "metadata": {},
   "outputs": [],
   "source": [
    "args.N = 5\n",
    "args.alpha_r = 1\n",
    "args.alpha_c = 1\n",
    "args.alpha_kld = 0.1\n",
    "args.alpha_reg = 0\n",
    "args.alpha_diff = 0\n",
    "args.sparsity = 0.95\n",
    "args.random_sparsity = False"
   ]
  },
  {
   "cell_type": "markdown",
   "metadata": {},
   "source": [
    "Init Mini Batch "
   ]
  },
  {
   "cell_type": "code",
   "execution_count": null,
   "metadata": {},
   "outputs": [
    {
     "data": {
      "text/plain": [
       "CIDER(\n",
       "  (gcn_shared): Sequential(\n",
       "    (0): GCNConv(10, 8)\n",
       "  )\n",
       "  (gcn_mu_causal): GCNConv(8, 4)\n",
       "  (gcn_mu_non_causal): GCNConv(8, 4)\n",
       "  (gcn_logvar_causal): GCNConv(8, 4)\n",
       "  (gcn_logvar_non_causal): GCNConv(8, 4)\n",
       "  (decoder_causal): InnerProductDecoderMLP(\n",
       "    (fc): Linear(in_features=4, out_features=8, bias=True)\n",
       "    (fc2): Linear(in_features=8, out_features=8, bias=True)\n",
       "  )\n",
       "  (decoder_non_causal): InnerProductDecoderMLP(\n",
       "    (fc): Linear(in_features=4, out_features=8, bias=True)\n",
       "    (fc2): Linear(in_features=8, out_features=8, bias=True)\n",
       "  )\n",
       "  (task_model): GcnEncoderGraph(\n",
       "    (conv_first): GCNConv(10, 20)\n",
       "    (conv_block): ModuleList(\n",
       "      (0-1): 2 x GCNConv(20, 20)\n",
       "    )\n",
       "    (conv_last): GCNConv(20, 20)\n",
       "    (act): ReLU()\n",
       "    (pred_model): Linear(in_features=80, out_features=2, bias=True)\n",
       "  )\n",
       "  (relu): ReLU()\n",
       ")"
      ]
     },
     "execution_count": 12,
     "metadata": {},
     "output_type": "execute_result"
    }
   ],
   "source": [
    "subset = train_set[0:10]\n",
    "\n",
    "subset_loader = DataLoader(subset)\n",
    "\n",
    "task_model.train()\n",
    "explainer_model.train()"
   ]
  },
  {
   "cell_type": "markdown",
   "metadata": {},
   "source": [
    "## check bp"
   ]
  },
  {
   "cell_type": "code",
   "execution_count": null,
   "metadata": {},
   "outputs": [
    {
     "data": {
      "text/plain": [
       "(tensor([-0.1275, -0.1146,  0.3030,  0.3292, -0.4885, -0.5172,  0.3497, -0.5198,\n",
       "          0.0246, -0.4079], device='cuda:0'),\n",
       " tensor([-0.0056, -0.0059, -0.0059, -0.0056, -0.0056, -0.0056, -0.0056, -0.0056,\n",
       "         -0.0056, -0.0057], device='cuda:0'))"
      ]
     },
     "execution_count": 13,
     "metadata": {},
     "output_type": "execute_result"
    }
   ],
   "source": [
    "explainer_model.state_dict()['gcn_shared.module_0.lin.weight'][-1], task_model.state_dict()['conv_first.lin.weight'][-1], "
   ]
  },
  {
   "cell_type": "code",
   "execution_count": null,
   "metadata": {},
   "outputs": [
    {
     "name": "stdout",
     "output_type": "stream",
     "text": [
      "53.045510412828385 1.5702825486660004 -0.5212759971618652 54.68864947557449 0.5\n",
      "52.88030561022242 1.5677532404661179 -0.5208928287029266 54.52086068689823 0.5\n",
      "57.00258273354177 1.549373373389244 -0.5205082595348358 58.62470296025276 0.5\n",
      "50.60074598527717 1.5639783889055252 -0.5201201438903809 52.23741392791271 0.52\n",
      "59.90585582838912 1.560311809182167 -0.5197277963161469 61.53880004584789 0.5\n",
      "57.79342977142733 1.5436295568943024 -0.5193297564983368 59.409633964300156 0.5\n",
      "51.49952785300138 1.56022909283638 -0.518926739692688 53.13227641582489 0.5\n",
      "48.775599032419265 1.5334022045135498 -0.5185245871543884 50.38146285712719 0.48\n",
      "52.63500768169445 1.550582766532898 -0.5181149542331696 54.25799226760864 0.5\n",
      "54.166080971432166 1.577727347612381 -0.517704427242279 55.8161495923996 0.5\n",
      "47.36778524944111 1.551014006137848 -0.5172875821590424 48.99108085036278 0.5\n",
      "53.82352685442311 1.5467169731855392 -0.5168735682964325 55.44246615469456 0.5\n",
      "55.68327666871005 1.5612609535455704 -0.5164508819580078 57.31669917702675 0.5\n",
      "57.26563171148882 1.551090881228447 -0.5160257518291473 58.888823851943016 0.5\n",
      "49.64206472296405 1.5500178188085556 -0.5155945718288422 51.26412174105644 0.5\n",
      "63.28975506985569 1.550062969326973 -0.5151658058166504 64.91179616749287 0.5\n",
      "62.1838473263299 1.5551543235778809 -0.5147268176078796 63.810917407274246 0.5\n",
      "51.35783352351609 1.5407932549715042 -0.5142911374568939 52.97047761082649 0.5\n",
      "51.466969333108864 1.5531298220157623 -0.5138454139232635 53.091885298490524 0.5\n",
      "40.52821601179166 1.5572035312652588 -0.5133969783782959 42.157141983509064 0.54\n",
      "72.5064796936349 1.5362397134304047 -0.5129464268684387 74.11437702178955 0.5\n",
      "59.060969067114 1.558418095111847 -0.512494295835495 60.69097834825516 0.5\n",
      "59.75714171929417 1.5226958841085434 -0.5120377242565155 61.351363614201546 0.5\n",
      "58.87164365302647 1.5541759431362152 -0.5115796625614166 60.497280940413475 0.5\n",
      "60.07342719432347 1.5837782621383667 -0.5111136436462402 61.728599697351456 0.5\n",
      "62.847612258972276 1.5551858246326447 -0.5106465220451355 64.47412377595901 0.5\n",
      "51.11332563585893 1.543982207775116 -0.5101776123046875 52.728566721081734 0.5\n",
      "53.76094323904999 1.54948028922081 -0.5097077786922455 55.38161326944828 0.5\n",
      "52.66616643458747 1.5595563352108002 -0.5092283189296722 54.296843990683556 0.48\n",
      "57.39826520867405 1.546213150024414 -0.5087479054927826 59.01553139090538 0.5\n",
      "61.36593132729481 1.5389568507671356 -0.5082648396492004 62.97587010264397 0.48\n",
      "51.74895495827673 1.5277934968471527 -0.5077765882015228 53.34766134619713 0.5\n",
      "57.65068317598343 1.5374810695648193 -0.5072884559631348 59.25900487601757 0.5\n",
      "56.22117401183641 1.5362330228090286 -0.5067927241325378 57.828177988529205 0.52\n",
      "65.80804485174158 1.5635035932064056 -0.5062946379184723 67.44224782288074 0.5\n",
      "52.60247891540462 1.5409979820251465 -0.5057938694953918 54.21410369873047 0.5\n",
      "46.9247797538701 1.5116904824972153 -0.5052923560142517 48.50702337920666 0.5\n",
      "52.255244097163974 1.5473720729351044 -0.5047847032546997 53.87309917807579 0.52\n",
      "60.62835159378096 1.540669322013855 -0.504271924495697 62.23942816257477 0.5\n",
      "54.32708092331495 1.5405054539442062 -0.503756195306778 55.937919810414314 0.5\n",
      "53.49503380319691 1.5625823587179184 -0.5032383501529694 55.1278727799654 0.5\n",
      "59.91596906245093 1.5269466489553452 -0.5027172267436981 61.51309911906719 0.5\n",
      "52.374364022058444 1.5383531004190445 -0.5021939873695374 53.98282438516617 0.5\n",
      "64.65847990458633 1.52178755402565 -0.5016635358333588 66.25029844045639 0.5\n",
      "53.06817089232959 1.5331336557865143 -0.5011360347270966 54.671259462833405 0.52\n",
      "44.65801543069401 1.5295073837041855 -0.5006012320518494 46.25740037858486 0.5\n",
      "62.45068524951512 1.5358991175889969 -0.5000627040863037 64.05638484656811 0.5\n",
      "51.67642900569433 1.5640308558940887 -0.49951907992362976 53.31018178164959 0.52\n",
      "56.98925530943961 1.5252093374729156 -0.4989749491214752 58.584109887480736 0.5\n",
      "56.60957634174474 1.5381538271903992 -0.49843093752861023 58.21729439496994 0.5\n",
      "42.50668108237441 1.5379491597414017 -0.49787792563438416 44.11411494016647 0.54\n",
      "52.569529315132286 1.5391342639923096 -0.49732455611228943 54.17806896567345 0.48\n",
      "44.86401458552547 1.5500637143850327 -0.49676674604415894 46.48340229690075 0.52\n",
      "72.50485684857682 1.5364281237125397 -0.4962071478366852 74.11052745580673 0.48\n",
      "63.107568057204276 1.5205955356359482 -0.49563977122306824 64.69732592999935 0.5\n",
      "48.031593530025546 1.5371221154928207 -0.49506840109825134 49.63779580593109 0.54\n",
      "60.639059044122405 1.5401477366685867 -0.49449846148490906 62.2482058852911 0.5\n",
      "52.01986654178249 1.5414222031831741 -0.49392449855804443 53.63020306825638 0.5\n",
      "73.88304442513231 1.5308657735586166 -0.4933442175388336 75.48274140059948 0.5\n",
      "49.78792414419479 1.5408194661140442 -0.49276411533355713 51.39749275147915 0.5\n",
      "45.25744246657058 1.5554420053958893 -0.49218058586120605 46.88154684007168 0.5\n",
      "56.08960826609837 1.5272063165903091 -0.49159231781959534 57.6853933185339 0.48\n",
      "45.98564418942537 1.545578584074974 -0.49100369215011597 47.59971626102924 0.5\n",
      "49.91516780038364 1.5343936830759048 -0.49040988087654114 51.51796966791153 0.5\n",
      "45.08663861805269 1.5239276438951492 -0.4898107647895813 46.678887754678726 0.52\n",
      "54.71331360787735 1.5229429602622986 -0.489210307598114 56.30449195206165 0.5\n",
      "62.08148217039925 1.509827271103859 -0.48860785365104675 63.659457713365555 0.5\n",
      "62.132489413696476 1.5150024741888046 -0.48799610137939453 63.71555212140083 0.5\n",
      "61.90151737118722 1.5130783021450043 -0.4873872995376587 63.48256780207157 0.5\n",
      "58.62571123935322 1.5222724676132202 -0.48677191138267517 60.21586765348911 0.5\n",
      "52.57956983549499 1.5734880864620209 -0.48615747690200806 54.22085326910019 0.5\n",
      "57.20791274825498 1.526053249835968 -0.48553815484046936 58.80167166888714 0.48\n",
      "55.50195319873819 1.5103353410959244 -0.48295682668685913 57.07965485751629 0.44000000000000006\n",
      "56.128882644077294 1.5242149531841278 -0.48430052399635315 57.720766469836235 0.5\n",
      "47.786969274390685 1.5118522197008133 -0.47984081506729126 49.36574266850948 0.5\n",
      "50.58404819416273 1.5282733589410782 -0.4798813760280609 52.179223358631134 0.5\n",
      "43.8027905386698 1.5099232643842697 -0.4771186113357544 45.37925797700882 0.5\n",
      "49.987372454481374 1.5173287838697433 -0.4762309491634369 51.57118162512779 0.5\n",
      "57.2469422917722 1.527671217918396 -0.4745277762413025 58.840836718678474 0.5\n",
      "51.12074895313208 1.5104818642139435 -0.4730698764324188 52.69720937311649 0.5\n",
      "57.06614054798774 1.5197996646165848 -0.47177454829216003 58.65173378586769 0.5\n",
      "38.96501836713196 1.4971756339073181 -0.4702291488647461 40.5277990847826 0.54\n",
      "47.395844018168646 1.513188660144806 -0.4688771069049835 48.97447158396244 0.5\n",
      "47.48444806514385 1.5075128972530365 -0.4674164354801178 49.057184502482414 0.52\n",
      "39.25965194622859 1.5150891095399857 -0.4660184383392334 40.83975702524185 0.52\n",
      "52.624278385438174 1.5107987374067307 -0.46458250284194946 54.19989550113678 0.5\n",
      "51.00089752109406 1.5286465734243393 -0.46311289072036743 52.59416323900223 0.5\n",
      "46.15834577339501 1.5211586207151413 -0.46164417266845703 47.74392378330231 0.5\n",
      "52.842315417969985 1.5160837918519974 -0.46017831563949585 54.422613233327866 0.5\n",
      "60.25175195637962 1.510918289422989 -0.4586903750896454 61.82667553424835 0.5\n",
      "72.2386477524451 1.5195139795541763 -0.4571843445301056 73.82195708155632 0.5\n",
      "55.63618580013184 1.5268507897853851 -0.4556569457054138 57.22662051022053 0.5\n",
      "56.47116379882135 1.516357347369194 -0.45410919189453125 58.05089168250561 0.5\n",
      "50.02088953737888 1.4944952875375748 -0.45257124304771423 51.578535318374634 0.54\n",
      "51.28347162752925 1.4871761500835419 -0.45099857449531555 52.833578050136566 0.5\n",
      "51.69098723240177 1.5164520591497421 -0.44942840933799744 53.27014862000942 0.5\n",
      "54.92176833131299 1.5188557654619217 -0.44785159826278687 56.5031062066555 0.5\n",
      "45.94541848084773 1.5030461549758911 -0.4462563097476959 47.51072442531586 0.5\n",
      "59.075934344397865 1.5161929279565811 -0.4446326196193695 60.65415969491005 0.5\n",
      "59.230265267886665 1.516946628689766 -0.4430238604545593 60.809015706181526 0.5\n"
     ]
    }
   ],
   "source": [
    "from utils import train_one_epoch\n",
    "from torch.nn import CrossEntropyLoss, BCEWithLogitsLoss\n",
    "\n",
    "for epoch in range(0, 100):\n",
    "    losses = train_one_epoch(subset_loader, explainer_model, CrossEntropyLoss(), BCEWithLogitsLoss(), optimizer, task_model, epoch, args)\n",
    "    print(losses['causal loss'], losses['reconstruction loss'], losses['causal diversity loss'], losses['total loss'], losses['train acc'])"
   ]
  },
  {
   "cell_type": "code",
   "execution_count": null,
   "metadata": {},
   "outputs": [
    {
     "data": {
      "text/plain": [
       "(tensor([-7.4707e-02, -6.2644e-02,  2.4591e-01,  2.7185e-01, -4.3025e-01,\n",
       "         -4.5888e-01,  2.9220e-01, -4.6142e-01,  3.0209e-04, -3.5008e-01],\n",
       "        device='cuda:0'),\n",
       " tensor([-0.0056, -0.0059, -0.0059, -0.0056, -0.0056, -0.0056, -0.0056, -0.0056,\n",
       "         -0.0056, -0.0057], device='cuda:0'))"
      ]
     },
     "execution_count": 16,
     "metadata": {},
     "output_type": "execute_result"
    }
   ],
   "source": [
    "explainer_model.state_dict()['gcn_shared.module_0.lin.weight'][-1], task_model.state_dict()['conv_first.lin.weight'][-1], "
   ]
  },
  {
   "cell_type": "markdown",
   "metadata": {},
   "source": [
    "### testing task model"
   ]
  },
  {
   "cell_type": "code",
   "execution_count": null,
   "metadata": {},
   "outputs": [],
   "source": [
    "from utils import evaluate_graphs_accuracy\n",
    "\n",
    "evaluate_graphs_accuracy(subset_loader, task_model)"
   ]
  },
  {
   "cell_type": "code",
   "execution_count": null,
   "metadata": {},
   "outputs": [],
   "source": [
    "from utils import validate\n",
    "\n",
    "validate(subset, explainer_model, task_model, batch_size=8)"
   ]
  },
  {
   "cell_type": "markdown",
   "metadata": {},
   "source": [
    "## check the result of separation"
   ]
  },
  {
   "cell_type": "code",
   "execution_count": 33,
   "metadata": {},
   "outputs": [],
   "source": [
    "explainations = explainer_model.get_explainations(subset[0].x.cuda(), subset[0].edge_index.cuda())"
   ]
  },
  {
   "cell_type": "code",
   "execution_count": null,
   "metadata": {},
   "outputs": [],
   "source": [
    "subset[0].edge_index, subset[0].edge_index.shape"
   ]
  },
  {
   "cell_type": "code",
   "execution_count": null,
   "metadata": {},
   "outputs": [],
   "source": [
    "explainations['0.9'].edge_index, explainations['0.9'].edge_index.shape"
   ]
  },
  {
   "cell_type": "code",
   "execution_count": null,
   "metadata": {},
   "outputs": [],
   "source": [
    "from utils import evaluate_graphs_accuracy\n",
    "\n",
    "evaluate_graphs_accuracy(train_loader, task_model, require_cm=True)"
   ]
  },
  {
   "cell_type": "code",
   "execution_count": null,
   "metadata": {},
   "outputs": [],
   "source": [
    "evaluate_graphs_accuracy(train_loader, task_model), evaluate_graphs_accuracy(test_loader, task_model), evaluate_graphs_accuracy(val_loader, task_model)"
   ]
  },
  {
   "cell_type": "code",
   "execution_count": null,
   "metadata": {},
   "outputs": [],
   "source": [
    "dataset[0].y, dataset[1].y"
   ]
  },
  {
   "cell_type": "code",
   "execution_count": null,
   "metadata": {},
   "outputs": [],
   "source": [
    "task_model(torch.rand_like(dataset[0].x).to(device), torch.tensor([[], []]).to(torch.long).to(device)), task_model(torch.rand_like(dataset[0].x).to(device), torch.tensor([[], []]).to(torch.long).to(device)).argmax(dim=1).item()"
   ]
  },
  {
   "cell_type": "code",
   "execution_count": null,
   "metadata": {},
   "outputs": [],
   "source": [
    "task_model(torch.rand_like(dataset[0].x).to(device), data.edge_index.to(device)), task_model(torch.rand_like(dataset[0].x).to(device), data.edge_index.to(device)).argmax(dim=1).item()"
   ]
  },
  {
   "cell_type": "code",
   "execution_count": null,
   "metadata": {},
   "outputs": [],
   "source": [
    "index = 0\n",
    "task_model(dataset[index].x.to(device), dataset[index].edge_index.to(device)), task_model(dataset[index].x.to(device), dataset[index].edge_index.to(device)).argmax(dim=1).item()"
   ]
  },
  {
   "cell_type": "code",
   "execution_count": null,
   "metadata": {},
   "outputs": [],
   "source": [
    "index = 100\n",
    "task_model(train_set[index].x.to(device), train_set[index].edge_index.to(device)), task_model(train_set[index].x.to(device), train_set[index].edge_index.to(device)).argmax(dim=1).item()"
   ]
  },
  {
   "cell_type": "code",
   "execution_count": 30,
   "metadata": {},
   "outputs": [],
   "source": [
    "from torch_geometric.datasets import Planetoid\n",
    "from torch_geometric.utils import barabasi_albert_graph\n",
    "\n",
    "num_nodes = 5\n",
    "num_edges = 2\n",
    "ba_data = barabasi_albert_graph(num_nodes, num_edges)"
   ]
  },
  {
   "cell_type": "code",
   "execution_count": 79,
   "metadata": {},
   "outputs": [
    {
     "data": {
      "text/plain": [
       "tensor([[ 0,  0,  0,  0,  0,  0,  0,  0,  0,  0,  0,  0,  1,  1,  1,  2,  3,  4,\n",
       "          5,  5,  5,  5,  5,  6,  7,  8,  9, 10, 11, 11, 12, 13, 14, 15, 15, 16,\n",
       "         17, 18, 19, 20, 20, 20, 21, 21, 22, 22, 23, 23, 24, 24],\n",
       "        [ 1,  2,  3,  4,  5,  6,  8, 10, 15, 17, 18, 20,  0,  9, 12,  0,  0,  0,\n",
       "          0,  7, 11, 14, 16,  0,  5,  0,  1,  0,  5, 13,  1, 11,  5,  0, 19,  5,\n",
       "          0,  0, 15,  0, 21, 24, 20, 22, 21, 23, 22, 24, 20, 23]])"
      ]
     },
     "execution_count": 79,
     "metadata": {},
     "output_type": "execute_result"
    }
   ],
   "source": [
    "subset[0].edge_index"
   ]
  },
  {
   "cell_type": "code",
   "execution_count": null,
   "metadata": {},
   "outputs": [],
   "source": [
    "import torch\n",
    "import networkx as nx\n",
    "import torch_geometric\n",
    "import matplotlib.pyplot as plt\n",
    "from torch_geometric.utils import to_networkx\n",
    "\n",
    "# Example PyG data object (replace this with your own data)\n",
    "edge_index = torch.tensor([[0, 1, 2, 3], [1, 2, 3, 0]], dtype=torch.long)\n",
    "data = torch_geometric.data.Data(edge_index=ba_data)\n",
    "\n",
    "# Convert PyG data to NetworkX graph\n",
    "graph = to_networkx(data)\n",
    "\n",
    "# Visualize the graph using NetworkX\n",
    "pos = nx.spring_layout(graph, seed=42)  # You can choose other layout algorithms\n",
    "nx.draw(graph, pos, with_labels=True, node_color='skyblue', node_size=500, font_size=10, edge_color='gray')\n",
    "\n",
    "plt.show()"
   ]
  },
  {
   "cell_type": "code",
   "execution_count": 80,
   "metadata": {},
   "outputs": [
    {
     "name": "stderr",
     "output_type": "stream",
     "text": [
      "/share/home/zhangqibin/anaconda3/envs/cider/lib/python3.11/site-packages/torch_geometric/data/storage.py:304: UserWarning: Unable to accurately infer 'num_nodes' from the attribute set '{'edge_index'}'. Please explicitly set 'num_nodes' as an attribute of 'data' to suppress this warning\n",
      "  warnings.warn(\n"
     ]
    },
    {
     "data": {
      "image/png": "[encoded data removed]",
      "text/plain": [
       "<Figure size 640x480 with 1 Axes>"
      ]
     },
     "metadata": {},
     "output_type": "display_data"
    }
   ],
   "source": [
    "# Example PyG data object (replace this with your own data)\n",
    "index = 0\n",
    "\n",
    "data = torch_geometric.data.Data(edge_index=subset[index].edge_index)\n",
    "\n",
    "# Convert PyG data to NetworkX graph\n",
    "graph = to_networkx(data)\n",
    "\n",
    "# Visualize the graph using NetworkX\n",
    "pos = nx.spring_layout(graph, seed=42)  # You can choose other layout algorithms\n",
    "nx.draw(graph, pos, with_labels=True, node_color='skyblue', node_size=500, font_size=10, edge_color='gray')\n",
    "\n",
    "plt.show()"
   ]
  },
  {
   "cell_type": "code",
   "execution_count": 75,
   "metadata": {},
   "outputs": [
    {
     "data": {
      "image/png": "[encoded data removed]",
      "text/plain": [
       "<Figure size 640x480 with 1 Axes>"
      ]
     },
     "metadata": {},
     "output_type": "display_data"
    },
    {
     "data": {
      "text/plain": [
       "<Figure size 640x480 with 0 Axes>"
      ]
     },
     "metadata": {},
     "output_type": "display_data"
    }
   ],
   "source": [
    "import networkx as nx\n",
    "\n",
    "index = 3\n",
    "\n",
    "explainations = explainer_model.get_explainations(subset[index].x.cuda(), subset[index].edge_index.cuda())\n",
    "\n",
    "explaination = to_networkx(explainations['0.5'])\n",
    "G = torch_geometric.utils.to_networkx(subset[index])\n",
    "pos = nx.kamada_kawai_layout(G)\n",
    "\n",
    "nx.draw_networkx_nodes(G, pos, nodelist=[i for i in range(subset[index].num_nodes)], node_color='green', node_size=300)\n",
    "\n",
    "nx.draw_networkx_edges(G, pos, width=2, edge_color='grey')\n",
    "\n",
    "nx.draw_networkx_edges(G, pos, edgelist=explaination.edges, width=5)\n",
    "\n",
    "plt.axis('off')\n",
    "plt.show()\n",
    "plt.clf()"
   ]
  },
  {
   "cell_type": "code",
   "execution_count": null,
   "metadata": {},
   "outputs": [],
   "source": [
    "import torch\n",
    "from torch_geometric.datasets import ExplainerDataset\n",
    "from torch_geometric.datasets.graph_generator import BAGraph\n",
    "from torch_geometric.datasets.motif_generator import HouseMotif\n",
    "from torch_geometric.datasets.motif_generator import CycleMotif\n",
    "\n",
    "dataset1 = ExplainerDataset(\n",
    "    graph_generator=BAGraph(num_nodes=25, num_edges=1),\n",
    "    motif_generator=HouseMotif(),\n",
    "    num_motifs=1,\n",
    "    num_graphs=500,\n",
    ")\n",
    "\n",
    "dataset2 = ExplainerDataset(\n",
    "    graph_generator=BAGraph(num_nodes=25, num_edges=1),\n",
    "    motif_generator=CycleMotif(5),\n",
    "    num_motifs=1,\n",
    "    num_graphs=500,\n",
    ")\n",
    "\n",
    "dataset = torch.utils.data.ConcatDataset([dataset1, dataset2])\n",
    "loader = DataLoader(dataset)"
   ]
  },
  {
   "cell_type": "code",
   "execution_count": null,
   "metadata": {},
   "outputs": [],
   "source": [
    "evaluate_graphs_accuracy(loader, task_model)"
   ]
  },
  {
   "cell_type": "markdown",
   "metadata": {},
   "source": [
    "## using vgae to fit BA-shape"
   ]
  },
  {
   "cell_type": "code",
   "execution_count": null,
   "metadata": {},
   "outputs": [],
   "source": [
    "from torch_geometric.utils import barabasi_albert_graph\n",
    "from torch_geometric.data import Data, Dataset\n",
    "import torch\n",
    "\n",
    "edge_indexes = [barabasi_albert_graph(10, 1) for i in range(10)]\n",
    "\n",
    "num_nodes = 20\n",
    "\n",
    "data_list = [Data(x=torch.ones([num_nodes, 10])/10, edge_index=barabasi_albert_graph(num_nodes, 1)) for i in range(10)]"
   ]
  },
  {
   "cell_type": "code",
   "execution_count": null,
   "metadata": {},
   "outputs": [],
   "source": [
    "from torch_geometric.nn import VGAE, GraphConv\n",
    "import torch.nn as nn\n",
    "import torch.nn.functional as F\n",
    "\n",
    "class Encoder(nn.Module):\n",
    "    def __init__(self, input_dim, hidden_dim, latent_dim, act=F.relu):\n",
    "        super(Encoder, self).__init__()\n",
    "        self.gcn_shared = GraphConv(input_dim, hidden_dim)\n",
    "        self.gcn_z_mean = GraphConv(hidden_dim, latent_dim)\n",
    "        self.gcn_z_log_var = GraphConv(hidden_dim, latent_dim)\n",
    "        self.act = act\n",
    "\n",
    "    def forward(self, x, edge_index):\n",
    "        hidden = self.act(self.gcn_shared(x, edge_index))\n",
    "        z_mean = self.gcn_z_mean(hidden, edge_index)\n",
    "        z_log_var = self.gcn_z_log_var(hidden, edge_index)\n",
    "        \n",
    "        return z_mean, z_log_var"
   ]
  },
  {
   "cell_type": "code",
   "execution_count": null,
   "metadata": {},
   "outputs": [],
   "source": [
    "vgae = VGAE(encoder=Encoder(10, 8, 2))"
   ]
  },
  {
   "cell_type": "code",
   "execution_count": null,
   "metadata": {},
   "outputs": [],
   "source": [
    "import torch.optim as optim\n",
    "\n",
    "optimizer = optim.Adam(vgae.parameters(), lr=0.001)"
   ]
  },
  {
   "cell_type": "code",
   "execution_count": null,
   "metadata": {},
   "outputs": [],
   "source": [
    "criterion = nn.BCELoss()\n",
    "\n",
    "num_epochs = 300\n",
    "\n",
    "for epoch in range(num_epochs):\n",
    "    for data in data_list:\n",
    "        optimizer.zero_grad()\n",
    "        z = vgae.encode(data.x, data.edge_index)\n",
    "        recons = vgae.decode(z, data.edge_index)\n",
    "        loss_rec = 5*criterion(recons, torch.ones_like(recons)) \n",
    "        loss_kld = vgae.kl_loss()\n",
    "        loss = loss_rec + loss_kld\n",
    "        loss.backward()\n",
    "        optimizer.step()\n",
    "    print(f\"Epoch [{epoch+1}/{num_epochs}], Loss: {loss.item()}, Loss_rec: {loss_rec.item()}, Loss_kld: {loss_kld.item()}\")\n"
   ]
  },
  {
   "cell_type": "code",
   "execution_count": null,
   "metadata": {},
   "outputs": [],
   "source": [
    "criterion(torch.ones([40])*0.53, torch.ones([40]))"
   ]
  },
  {
   "cell_type": "markdown",
   "metadata": {},
   "source": [
    "## using vgae to fit motif"
   ]
  },
  {
   "cell_type": "code",
   "execution_count": null,
   "metadata": {},
   "outputs": [],
   "source": []
  }
 ],
 "metadata": {
  "kernelspec": {
   "display_name": "cider",
   "language": "python",
   "name": "python3"
  },
  "language_info": {
   "codemirror_mode": {
    "name": "ipython",
    "version": 3
   },
   "file_extension": ".py",
   "mimetype": "text/x-python",
   "name": "python",
   "nbconvert_exporter": "python",
   "pygments_lexer": "ipython3",
   "version": "3.11.4"
  },
  "orig_nbformat": 4
 },
 "nbformat": 4,
 "nbformat_minor": 2
}
