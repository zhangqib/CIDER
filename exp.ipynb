{
 "cells": [
  {
   "cell_type": "code",
   "execution_count": 1,
   "metadata": {},
   "outputs": [],
   "source": [
    "import torch\n",
    "import torch.nn as nn\n",
    "import torch_geometric\n",
    "from torch_geometric.loader import DataLoader\n",
    "\n",
    "import cider\n",
    "import models\n",
    "import utils\n",
    "\n",
    "import nci\n",
    "import ba\n",
    "import mutag"
   ]
  },
  {
   "cell_type": "code",
   "execution_count": 2,
   "metadata": {},
   "outputs": [],
   "source": [
    "train_set = mutag.Mutagenicity(mode=\"training\")\n",
    "train_set_mini = train_set[0:8]\n",
    "\n",
    "train_loader = DataLoader(\n",
    "    train_set,\n",
    "    batch_size=32,\n",
    "    shuffle=True,\n",
    "    pin_memory=True,\n",
    "    drop_last=True,\n",
    ")\n",
    "train_loader_mini = DataLoader(\n",
    "    train_set_mini,\n",
    "    batch_size=1,\n",
    "    shuffle=True,\n",
    "    pin_memory=True,\n",
    "    drop_last=True,\n",
    ")"
   ]
  },
  {
   "cell_type": "code",
   "execution_count": 3,
   "metadata": {},
   "outputs": [],
   "source": [
    "hidden_channels1 = 128\n",
    "hidden_channels2 = 128\n",
    "hidden_channels3 = 128\n",
    "\n",
    "device = torch.device('cuda:3')\n",
    "\n",
    "task_model_para_path = \"./params/mutag_net.pt\"\n",
    "explainer_para_path = \"./params/explainer_mutag.ckpt\""
   ]
  },
  {
   "cell_type": "code",
   "execution_count": 4,
   "metadata": {},
   "outputs": [],
   "source": [
    "task_model = models.GcnEncoderGraph(\n",
    "    input_dim=train_set.num_features,\n",
    "    hidden_dim=50,\n",
    "    embedding_dim=10,\n",
    "    num_layers=3,\n",
    "    pred_hidden_dims=[10, 10],\n",
    "    label_dim=2,\n",
    ")\n",
    "\n",
    "explainer = cider.CIDER(\n",
    "    train_set.num_features,\n",
    "    hidden_channels1=hidden_channels1,\n",
    "    hidden_channels2=hidden_channels2,\n",
    "    hidden_channels3=hidden_channels3,\n",
    "    task_model=task_model,\n",
    ")"
   ]
  },
  {
   "cell_type": "code",
   "execution_count": 5,
   "metadata": {},
   "outputs": [
    {
     "data": {
      "text/plain": [
       "CIDER(\n",
       "  (gcn_shared): Sequential(\n",
       "    (0): GCNConv(14, 128)\n",
       "  )\n",
       "  (gcn_mu_causal): GCNConv(128, 128)\n",
       "  (gcn_mu_non_causal): GCNConv(128, 128)\n",
       "  (gcn_logvar_causal): GCNConv(128, 128)\n",
       "  (gcn_logvar_non_causal): GCNConv(128, 128)\n",
       "  (decoder_causal): InnerProductDecoderMLP(\n",
       "    (fc_layers): ModuleList()\n",
       "  )\n",
       "  (decoder_non_causal): InnerProductDecoderMLP(\n",
       "    (fc_layers): ModuleList()\n",
       "  )\n",
       "  (task_model): GcnEncoderGraph(\n",
       "    (conv_first): GCNConv(14, 50)\n",
       "    (conv_block): ModuleList(\n",
       "      (0): GCNConv(50, 50)\n",
       "    )\n",
       "    (conv_last): GCNConv(50, 10)\n",
       "    (act): ReLU()\n",
       "    (pred_model): Sequential(\n",
       "      (0): Linear(in_features=110, out_features=10, bias=True)\n",
       "      (1): ReLU()\n",
       "      (2): Linear(in_features=10, out_features=10, bias=True)\n",
       "      (3): ReLU()\n",
       "      (4): Linear(in_features=10, out_features=2, bias=True)\n",
       "    )\n",
       "  )\n",
       "  (relu): ReLU()\n",
       ")"
      ]
     },
     "execution_count": 5,
     "metadata": {},
     "output_type": "execute_result"
    }
   ],
   "source": [
    "explainer.to(device)"
   ]
  },
  {
   "cell_type": "code",
   "execution_count": 6,
   "metadata": {},
   "outputs": [
    {
     "data": {
      "text/plain": [
       "<All keys matched successfully>"
      ]
     },
     "execution_count": 6,
     "metadata": {},
     "output_type": "execute_result"
    }
   ],
   "source": [
    "explainer.load_state_dict(torch.load(explainer_para_path))"
   ]
  },
  {
   "cell_type": "code",
   "execution_count": 34,
   "metadata": {},
   "outputs": [
    {
     "data": {
      "text/plain": [
       "<All keys matched successfully>"
      ]
     },
     "execution_count": 34,
     "metadata": {},
     "output_type": "execute_result"
    }
   ],
   "source": [
    "task_model.load_state_dict(torch.load('params/mutag_net.pt'))"
   ]
  },
  {
   "cell_type": "code",
   "execution_count": 35,
   "metadata": {},
   "outputs": [
    {
     "data": {
      "text/plain": [
       "0.8261911896913395"
      ]
     },
     "execution_count": 35,
     "metadata": {},
     "output_type": "execute_result"
    }
   ],
   "source": [
    "utils.evaluate_graphs_accuracy(train_loader, task_model, device)"
   ]
  },
  {
   "cell_type": "code",
   "execution_count": 8,
   "metadata": {},
   "outputs": [],
   "source": [
    "x = train_set_mini[0].x.to(device)\n",
    "edge_index = train_set_mini[0].edge_index.to(device)"
   ]
  },
  {
   "cell_type": "code",
   "execution_count": 9,
   "metadata": {},
   "outputs": [],
   "source": [
    "explainations = explainer.get_explainations(x, edge_index, device=device)"
   ]
  },
  {
   "cell_type": "code",
   "execution_count": 10,
   "metadata": {},
   "outputs": [
    {
     "data": {
      "text/plain": [
       "{'0.9': Data(x=[29, 14], edge_index=[2, 46]),\n",
       " '0.8': Data(x=[29, 14], edge_index=[2, 34]),\n",
       " '0.7': Data(x=[29, 14], edge_index=[2, 24]),\n",
       " '0.6': Data(x=[29, 14], edge_index=[2, 18]),\n",
       " '0.5': Data(x=[29, 14], edge_index=[2, 12]),\n",
       " '0.4': Data(x=[29, 14], edge_index=[2, 8]),\n",
       " '0.3': Data(x=[29, 14], edge_index=[2, 6]),\n",
       " '0.2': Data(x=[29, 14], edge_index=[2, 4]),\n",
       " '0.1': Data(x=[29, 14], edge_index=[2, 4])}"
      ]
     },
     "execution_count": 10,
     "metadata": {},
     "output_type": "execute_result"
    }
   ],
   "source": [
    "explainations"
   ]
  },
  {
   "cell_type": "code",
   "execution_count": 99,
   "metadata": {},
   "outputs": [
    {
     "ename": "AttributeError",
     "evalue": "'Explainer' object has no attribute 'get_explainations'",
     "output_type": "error",
     "traceback": [
      "\u001b[0;31m---------------------------------------------------------------------------\u001b[0m",
      "\u001b[0;31mAttributeError\u001b[0m                            Traceback (most recent call last)",
      "\u001b[1;32m/home/chenluonanlab/mingqi/CIDER/exp.ipynb Cell 12\u001b[0m line \u001b[0;36m8\n\u001b[1;32m      <a href='vscode-notebook-cell://ssh-remote%2Bpicb/home/chenluonanlab/mingqi/CIDER/exp.ipynb#X13sdnNjb2RlLXJlbW90ZQ%3D%3D?line=3'>4</a>\u001b[0m \u001b[39mfrom\u001b[39;00m \u001b[39mtorch_geometric\u001b[39;00m\u001b[39m.\u001b[39;00m\u001b[39mutils\u001b[39;00m \u001b[39mimport\u001b[39;00m to_networkx\n\u001b[1;32m      <a href='vscode-notebook-cell://ssh-remote%2Bpicb/home/chenluonanlab/mingqi/CIDER/exp.ipynb#X13sdnNjb2RlLXJlbW90ZQ%3D%3D?line=5'>6</a>\u001b[0m index \u001b[39m=\u001b[39m \u001b[39m0\u001b[39m\n\u001b[0;32m----> <a href='vscode-notebook-cell://ssh-remote%2Bpicb/home/chenluonanlab/mingqi/CIDER/exp.ipynb#X13sdnNjb2RlLXJlbW90ZQ%3D%3D?line=7'>8</a>\u001b[0m explainations \u001b[39m=\u001b[39m explainer\u001b[39m.\u001b[39;49mget_explainations(train_set_mini[index]\u001b[39m.\u001b[39mx\u001b[39m.\u001b[39mto(device), train_set_mini[index]\u001b[39m.\u001b[39medge_index\u001b[39m.\u001b[39mto(device), device\u001b[39m=\u001b[39mdevice)\n\u001b[1;32m      <a href='vscode-notebook-cell://ssh-remote%2Bpicb/home/chenluonanlab/mingqi/CIDER/exp.ipynb#X13sdnNjb2RlLXJlbW90ZQ%3D%3D?line=8'>9</a>\u001b[0m explaination \u001b[39m=\u001b[39m to_networkx(explainations[\u001b[39m'\u001b[39m\u001b[39m0.1\u001b[39m\u001b[39m'\u001b[39m])\n\u001b[1;32m     <a href='vscode-notebook-cell://ssh-remote%2Bpicb/home/chenluonanlab/mingqi/CIDER/exp.ipynb#X13sdnNjb2RlLXJlbW90ZQ%3D%3D?line=9'>10</a>\u001b[0m G \u001b[39m=\u001b[39m torch_geometric\u001b[39m.\u001b[39mutils\u001b[39m.\u001b[39mto_networkx(train_set_mini[index])\n",
      "\u001b[0;31mAttributeError\u001b[0m: 'Explainer' object has no attribute 'get_explainations'"
     ]
    }
   ],
   "source": [
    "import networkx as nx\n",
    "import torch_geometric\n",
    "import matplotlib.pyplot as plt\n",
    "from torch_geometric.utils import to_networkx\n",
    "\n",
    "index = 0\n",
    "\n",
    "explainations = explainer.get_explainations(train_set_mini[index].x.to(device), train_set_mini[index].edge_index.to(device), device=device)\n",
    "explaination = to_networkx(explainations['0.1'])\n",
    "G = torch_geometric.utils.to_networkx(train_set_mini[index])\n",
    "pos = nx.kamada_kawai_layout(G)\n",
    "\n",
    "nx.draw_networkx_nodes(G, pos, nodelist=[i for i in range(train_set_mini[index].num_nodes)], node_color='green', node_size=300)\n",
    "\n",
    "nx.draw_networkx_edges(G, pos, width=2, edge_color='grey')\n",
    "\n",
    "nx.draw_networkx_edges(G, pos, edgelist=explaination.edges, width=5)\n",
    "\n",
    "plt.axis('off')\n",
    "plt.show()\n",
    "plt.clf()"
   ]
  },
  {
   "cell_type": "code",
   "execution_count": 79,
   "metadata": {},
   "outputs": [
    {
     "data": {
      "text/plain": [
       "tensor([[ 0.5646, -0.4532]], device='cuda:3', grad_fn=<AddmmBackward0>)"
      ]
     },
     "execution_count": 79,
     "metadata": {},
     "output_type": "execute_result"
    }
   ],
   "source": [
    "task_model(\n",
    "    train_set_mini[index].x.to(device),\n",
    "    train_set_mini[index].edge_index.to(device)\n",
    ")"
   ]
  },
  {
   "cell_type": "code",
   "execution_count": 78,
   "metadata": {},
   "outputs": [
    {
     "data": {
      "text/plain": [
       "tensor([[ 2.2658, -1.9204]], device='cuda:3', grad_fn=<AddmmBackward0>)"
      ]
     },
     "execution_count": 78,
     "metadata": {},
     "output_type": "execute_result"
    }
   ],
   "source": [
    "task_model(\n",
    "    explainations['0.3'].x,\n",
    "    explainations['0.3'].edge_index\n",
    ")"
   ]
  },
  {
   "cell_type": "code",
   "execution_count": 50,
   "metadata": {},
   "outputs": [
    {
     "data": {
      "text/plain": [
       "tensor([0])"
      ]
     },
     "execution_count": 50,
     "metadata": {},
     "output_type": "execute_result"
    }
   ],
   "source": [
    "train_set_mini[index].y"
   ]
  },
  {
   "cell_type": "code",
   "execution_count": 92,
   "metadata": {},
   "outputs": [],
   "source": [
    "from torch_geometric.explain import Explainer, GNNExplainer\n",
    "\n",
    "explainer = Explainer(\n",
    "    model=task_model.cpu(),\n",
    "    algorithm=GNNExplainer(epochs=200),\n",
    "    explanation_type='model',\n",
    "    node_mask_type=None,\n",
    "    edge_mask_type='object',\n",
    "    model_config=dict(\n",
    "        mode='binary_classification',\n",
    "        task_level='graph',\n",
    "        return_type='raw',\n",
    "    ),\n",
    ")"
   ]
  },
  {
   "cell_type": "code",
   "execution_count": 100,
   "metadata": {},
   "outputs": [],
   "source": [
    "explanation = explainer(train_set_mini[index].x.cpu(), train_set_mini[index].edge_index.cpu())"
   ]
  },
  {
   "cell_type": "code",
   "execution_count": 101,
   "metadata": {},
   "outputs": [
    {
     "data": {
      "text/plain": [
       "OutEdgeView([(6, 9), (7, 9), (9, 6), (9, 7)])"
      ]
     },
     "execution_count": 101,
     "metadata": {},
     "output_type": "execute_result"
    }
   ],
   "source": [
    "explaination.edges"
   ]
  },
  {
   "cell_type": "code",
   "execution_count": 96,
   "metadata": {},
   "outputs": [
    {
     "data": {
      "image/png": "[encoded data removed]",
      "text/plain": [
       "<Figure size 640x480 with 1 Axes>"
      ]
     },
     "metadata": {},
     "output_type": "display_data"
    },
    {
     "data": {
      "text/plain": [
       "<Figure size 640x480 with 0 Axes>"
      ]
     },
     "metadata": {},
     "output_type": "display_data"
    }
   ],
   "source": [
    "import networkx as nx\n",
    "import torch_geometric\n",
    "import matplotlib.pyplot as plt\n",
    "from torch_geometric.utils import to_networkx\n",
    "\n",
    "index = 0\n",
    "\n",
    "# explainations = explainer.get_explainations(train_set_mini[index].x.to(device), train_set_mini[index].edge_index.to(device), device=device)\n",
    "# explaination = to_networkx(explainations['0.1'])\n",
    "G = torch_geometric.utils.to_networkx(train_set_mini[index])\n",
    "pos = nx.kamada_kawai_layout(G)\n",
    "\n",
    "nx.draw_networkx_nodes(G, pos, nodelist=[i for i in range(train_set_mini[index].num_nodes)], node_color='green', node_size=300)\n",
    "\n",
    "nx.draw_networkx_edges(G, pos, width=2, edge_color='grey')\n",
    "\n",
    "nx.draw_networkx_edges(G, pos, edgelist=explaination.edges, width=5)\n",
    "\n",
    "plt.axis('off')\n",
    "plt.show()\n",
    "plt.clf()"
   ]
  }
 ],
 "metadata": {
  "kernelspec": {
   "display_name": "cider",
   "language": "python",
   "name": "python3"
  },
  "language_info": {
   "codemirror_mode": {
    "name": "ipython",
    "version": 3
   },
   "file_extension": ".py",
   "mimetype": "text/x-python",
   "name": "python",
   "nbconvert_exporter": "python",
   "pygments_lexer": "ipython3",
   "version": "3.11.4"
  }
 },
 "nbformat": 4,
 "nbformat_minor": 2
}
