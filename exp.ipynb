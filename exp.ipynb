{
 "cells": [
  {
   "cell_type": "code",
   "execution_count": 3,
   "metadata": {},
   "outputs": [],
   "source": [
    "import torch\n",
    "import torch.nn as nn\n",
    "import torch_geometric\n",
    "from torch_geometric.loader import DataLoader\n",
    "\n",
    "import cider\n",
    "import models\n",
    "import utils\n",
    "\n",
    "import nci\n",
    "import ba\n",
    "import mutag"
   ]
  },
  {
   "cell_type": "code",
   "execution_count": 14,
   "metadata": {},
   "outputs": [],
   "source": [
    "train_set = mutag.Mutagenicity(mode=\"training\")\n",
    "train_set_mini = train_set[0:8]\n",
    "\n",
    "train_loader = DataLoader(\n",
    "    train_set,\n",
    "    batch_size=32,\n",
    "    shuffle=True,\n",
    "    pin_memory=True,\n",
    "    drop_last=True,\n",
    ")\n",
    "train_loader_mini = DataLoader(\n",
    "    train_set_mini,\n",
    "    batch_size=1,\n",
    "    shuffle=True,\n",
    "    pin_memory=True,\n",
    "    drop_last=True,\n",
    ")"
   ]
  },
  {
   "cell_type": "code",
   "execution_count": 8,
   "metadata": {},
   "outputs": [],
   "source": [
    "hidden_channels1 = 128\n",
    "hidden_channels2 = 128\n",
    "hidden_channels3 = 128\n",
    "\n",
    "device = torch.device('cuda:3')\n",
    "\n",
    "task_model_para_path = \"./params/mutag_net.pt\"\n",
    "explainer_para_path = \"./params/explainer_mutag.ckpt\""
   ]
  },
  {
   "cell_type": "code",
   "execution_count": 10,
   "metadata": {},
   "outputs": [],
   "source": [
    "task_model = models.GcnEncoderGraph(\n",
    "    input_dim=train_set.num_features,\n",
    "    hidden_dim=50,\n",
    "    embedding_dim=10,\n",
    "    num_layers=3,\n",
    "    pred_hidden_dims=[10, 10],\n",
    "    label_dim=2,\n",
    ")\n",
    "\n",
    "explainer = cider.CIDER(\n",
    "    train_set.num_features,\n",
    "    hidden_channels1=hidden_channels1,\n",
    "    hidden_channels2=hidden_channels2,\n",
    "    hidden_channels3=hidden_channels3,\n",
    "    task_model=task_model,\n",
    ")"
   ]
  },
  {
   "cell_type": "code",
   "execution_count": 18,
   "metadata": {},
   "outputs": [
    {
     "data": {
      "text/plain": [
       "CIDER(\n",
       "  (gcn_shared): Sequential(\n",
       "    (0): GCNConv(14, 128)\n",
       "  )\n",
       "  (gcn_mu_causal): GCNConv(128, 128)\n",
       "  (gcn_mu_non_causal): GCNConv(128, 128)\n",
       "  (gcn_logvar_causal): GCNConv(128, 128)\n",
       "  (gcn_logvar_non_causal): GCNConv(128, 128)\n",
       "  (decoder_causal): InnerProductDecoderMLP(\n",
       "    (fc): Linear(in_features=128, out_features=128, bias=True)\n",
       "    (fc2): Linear(in_features=128, out_features=128, bias=True)\n",
       "  )\n",
       "  (decoder_non_causal): InnerProductDecoderMLP(\n",
       "    (fc): Linear(in_features=128, out_features=128, bias=True)\n",
       "    (fc2): Linear(in_features=128, out_features=128, bias=True)\n",
       "  )\n",
       "  (task_model): GcnEncoderGraph(\n",
       "    (conv_first): GCNConv(14, 50)\n",
       "    (conv_block): ModuleList(\n",
       "      (0): GCNConv(50, 50)\n",
       "    )\n",
       "    (conv_last): GCNConv(50, 10)\n",
       "    (act): ReLU()\n",
       "    (pred_model): Sequential(\n",
       "      (0): Linear(in_features=110, out_features=10, bias=True)\n",
       "      (1): ReLU()\n",
       "      (2): Linear(in_features=10, out_features=10, bias=True)\n",
       "      (3): ReLU()\n",
       "      (4): Linear(in_features=10, out_features=2, bias=True)\n",
       "    )\n",
       "  )\n",
       "  (relu): ReLU()\n",
       ")"
      ]
     },
     "execution_count": 18,
     "metadata": {},
     "output_type": "execute_result"
    }
   ],
   "source": [
    "explainer.to(device)"
   ]
  },
  {
   "cell_type": "code",
   "execution_count": 11,
   "metadata": {},
   "outputs": [
    {
     "data": {
      "text/plain": [
       "<All keys matched successfully>"
      ]
     },
     "execution_count": 11,
     "metadata": {},
     "output_type": "execute_result"
    }
   ],
   "source": [
    "explainer.load_state_dict(torch.load(explainer_para_path))"
   ]
  },
  {
   "cell_type": "code",
   "execution_count": 15,
   "metadata": {},
   "outputs": [
    {
     "data": {
      "text/plain": [
       "0.8181000899011088"
      ]
     },
     "execution_count": 15,
     "metadata": {},
     "output_type": "execute_result"
    }
   ],
   "source": [
    "utils.evaluate_graphs_accuracy(train_loader, task_model, device)"
   ]
  },
  {
   "cell_type": "code",
   "execution_count": 16,
   "metadata": {},
   "outputs": [],
   "source": [
    "x = train_set_mini[0].x.to(device)\n",
    "edge_index = train_set_mini[0].edge_index.to(device)"
   ]
  },
  {
   "cell_type": "code",
   "execution_count": 20,
   "metadata": {},
   "outputs": [
    {
     "data": {
      "text/plain": [
       "{'0.9': Data(x=[29, 14], edge_index=[2, 58]),\n",
       " '0.8': Data(x=[29, 14], edge_index=[2, 58]),\n",
       " '0.7': Data(x=[29, 14], edge_index=[2, 58]),\n",
       " '0.6': Data(x=[29, 14], edge_index=[2, 58]),\n",
       " '0.5': Data(x=[29, 14], edge_index=[2, 58]),\n",
       " '0.4': Data(x=[29, 14], edge_index=[2, 58]),\n",
       " '0.3': Data(x=[29, 14], edge_index=[2, 58]),\n",
       " '0.2': Data(x=[29, 14], edge_index=[2, 58]),\n",
       " '0.1': Data(x=[29, 14], edge_index=[2, 58])}"
      ]
     },
     "execution_count": 20,
     "metadata": {},
     "output_type": "execute_result"
    }
   ],
   "source": [
    "explainations = explainer.get_explainations(x, edge_index, device=device)"
   ]
  },
  {
   "cell_type": "code",
   "execution_count": null,
   "metadata": {},
   "outputs": [],
   "source": []
  }
 ],
 "metadata": {
  "kernelspec": {
   "display_name": "cider",
   "language": "python",
   "name": "python3"
  },
  "language_info": {
   "codemirror_mode": {
    "name": "ipython",
    "version": 3
   },
   "file_extension": ".py",
   "mimetype": "text/x-python",
   "name": "python",
   "nbconvert_exporter": "python",
   "pygments_lexer": "ipython3",
   "version": "3.11.4"
  }
 },
 "nbformat": 4,
 "nbformat_minor": 2
}
